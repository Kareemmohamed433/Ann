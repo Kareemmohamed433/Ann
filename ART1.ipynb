{
  "nbformat": 4,
  "nbformat_minor": 0,
  "metadata": {
    "colab": {
      "provenance": []
    },
    "kernelspec": {
      "name": "python3",
      "display_name": "Python 3"
    },
    "language_info": {
      "name": "python"
    }
  },
  "cells": [
    {
      "cell_type": "code",
      "source": [
        "import numpy as np\n",
        "import matplotlib.pyplot as plt"
      ],
      "metadata": {
        "id": "yiuMTTsWVQO_"
      },
      "execution_count": 2,
      "outputs": []
    },
    {
      "cell_type": "code",
      "source": [
        "# Parameters\n",
        "rho = 0.4\n",
        "input_size = 4\n",
        "num_categories = 3"
      ],
      "metadata": {
        "id": "51m65XSQVRgF"
      },
      "execution_count": 25,
      "outputs": []
    },
    {
      "cell_type": "code",
      "source": [
        "# Initialize weights\n",
        "W_bu = np.array([\n",
        "    [1.0, 0.0, 0.2],\n",
        "    [0.0, 0.0, 0.2],\n",
        "    [0.0, 0.0, 0.2],\n",
        "    [0.0, 1.0, 0.2]\n",
        "])\n",
        "W_td = np.array([\n",
        "    [1.0, 0.0, 0.0, 0.0],\n",
        "    [0.0, 0.0, 0.0, 1.0],\n",
        "    [1.0, 1.0, 1.0, 1.0]\n",
        "])"
      ],
      "metadata": {
        "id": "Ga7BWdFzVXwu"
      },
      "execution_count": 4,
      "outputs": []
    },
    {
      "cell_type": "code",
      "source": [
        "assignments = {i: [] for i in range(num_categories)}"
      ],
      "metadata": {
        "id": "q34P2Qf0VbLn"
      },
      "execution_count": 5,
      "outputs": []
    },
    {
      "cell_type": "code",
      "source": [
        "def norm(x):\n",
        "    return np.sum(x)"
      ],
      "metadata": {
        "id": "ZOSADAWFVfgR"
      },
      "execution_count": 6,
      "outputs": []
    },
    {
      "cell_type": "code",
      "source": [
        "def vigilance_test(x, td_weights):\n",
        "    match_val = np.sum(np.minimum(x, td_weights.astype(int))) / norm(x)\n",
        "    return match_val >= rho"
      ],
      "metadata": {
        "id": "dA6kKS-tVhlR"
      },
      "execution_count": 14,
      "outputs": []
    },
    {
      "cell_type": "code",
      "source": [
        "def update_bu(td_vector):\n",
        "    return (2 * td_vector) / (1 + norm(td_vector))"
      ],
      "metadata": {
        "id": "jfd8ORw-VnBh"
      },
      "execution_count": 9,
      "outputs": []
    },
    {
      "cell_type": "code",
      "source": [
        "def visualize(assignments, W_bu, W_td):\n",
        "    fig, axs = plt.subplots(1, 2, figsize=(12, 5))\n",
        "    fig.suptitle(\"ART1 Network State\")\n",
        "\n",
        "    # Show assignments\n",
        "    axs[0].set_title(\"Node Assignments\")\n",
        "    for node, vecs in assignments.items():\n",
        "        for idx, vec in enumerate(vecs):\n",
        "            axs[0].text(node, -idx, str(vec), fontsize=12)\n",
        "    axs[0].set_xlim(-1, num_categories)\n",
        "    axs[0].set_ylim(-5, 1)\n",
        "    axs[0].set_xticks(range(num_categories))\n",
        "    axs[0].set_xlabel(\"Node\")\n",
        "    axs[0].set_ylabel(\"Assigned Inputs\")\n",
        "\n",
        "    # Show Weights\n",
        "    axs[1].set_title(\"Top-Down Weights\")\n",
        "    im = axs[1].imshow(W_td, cmap=\"Blues\", aspect=\"auto\")\n",
        "    axs[1].set_xlabel(\"Input Dimension\")\n",
        "    axs[1].set_ylabel(\"Node\")\n",
        "    plt.colorbar(im, ax=axs[1], label='Weight Value')\n",
        "\n",
        "    plt.tight_layout()\n",
        "    plt.show()"
      ],
      "metadata": {
        "id": "vGsuYYrtVxRW"
      },
      "execution_count": 10,
      "outputs": []
    },
    {
      "cell_type": "code",
      "source": [
        "def main():\n",
        "    global W_bu, W_td\n",
        "    print(\"ART1 Network - Enter binary input vectors (e.g. 1 0 0 1). Type 'q' to quit.\\n\")\n",
        "\n",
        "    while True:\n",
        "        user_input = input(\"Enter binary input vector (length 4): \").strip()\n",
        "        if user_input.lower() == 'q':\n",
        "            break\n",
        "\n",
        "        try:\n",
        "            x = np.array([int(i) for i in user_input.split()])\n",
        "            if len(x) != input_size or any(v not in [0,1] for v in x):\n",
        "                raise ValueError\n",
        "        except ValueError:\n",
        "            print(\"Invalid input. Please enter 4 binary digits separated by space.\")\n",
        "            continue\n",
        "\n",
        "        activated = [(j, np.dot(x, W_bu[:, j])) for j in range(num_categories)]\n",
        "        activated.sort(key=lambda tup: -tup[1])\n",
        "        accepted = False\n",
        "\n",
        "        for j, _ in activated:\n",
        "            if vigilance_test(x, W_td[j]):\n",
        "                print(f\"✅ Input {x.tolist()} classified by Node {j+1}\")\n",
        "                W_td[j] = np.minimum(W_td[j], x)\n",
        "                W_bu[:, j] = update_bu(W_td[j])\n",
        "                assignments[j].append(x.tolist())\n",
        "                accepted = True\n",
        "                break\n",
        "            else:\n",
        "                print(f\"❌ Node {j+1} rejected due to vigilance.\")\n",
        "\n",
        "        if not accepted:\n",
        "            print(\"⚠️ No node accepted the input. Try changing ρ or add more categories.\")\n",
        "\n",
        "        print(\"\\nBottom-Up Weights (W_bu):\\n\", np.round(W_bu, 2))\n",
        "        print(\"Top-Down Weights (W_td):\\n\", W_td.astype(int))\n",
        "        visualize(assignments, W_bu, W_td)\n",
        "\n",
        "if __name__ == \"__main__\":\n",
        "    main()"
      ],
      "metadata": {
        "colab": {
          "base_uri": "https://localhost:8080/"
        },
        "id": "eP2-NEKpaj2F",
        "outputId": "62ada4cb-968e-405a-e236-67a6c6b531d0"
      },
      "execution_count": null,
      "outputs": [
        {
          "output_type": "stream",
          "name": "stdout",
          "text": [
            "ART1 Network - Enter binary input vectors (e.g. 1 0 0 1). Type 'q' to quit.\n",
            "\n"
          ]
        }
      ]
    }
  ]
}